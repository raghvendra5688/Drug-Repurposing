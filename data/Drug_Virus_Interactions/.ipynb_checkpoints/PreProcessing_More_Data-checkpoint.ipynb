{
 "cells": [
  {
   "cell_type": "markdown",
   "metadata": {},
   "source": [
    "## 1. Dataset - Finding additional relevant compounds with activities"
   ]
  },
  {
   "cell_type": "markdown",
   "metadata": {},
   "source": [
    "Machine learning methods tend to work better the more data you have, and with this new virus popping up, data is a bit harder to come by. However, we do know a lot about how viruses work and relying on a main protease is common between many viruses. Available anti-viral drugs often target their proteases. \n",
    "\n",
    "SARS and MERS are both coronavirus variants that are very similar and since their respective outbreaks, many biological assays have been done to test compounds on their main proteases. Bioactivities measured in papers by medicinal chemists and biochemists are tracked by NCBI and are freely available. A database of protease inhibitors will be built using this data."
   ]
  },
  {
   "cell_type": "markdown",
   "metadata": {},
   "source": [
    "### General Dataset Preparation"
   ]
  },
  {
   "cell_type": "markdown",
   "metadata": {},
   "source": [
    "Note that each of these needs to be run for each of the search results and gives a list of assay ID's, or AIDs.\n",
    "\n",
    "The searches used to generate a good AID list are:\n",
    "\n",
    "1. Protein target GI73745819 - SARS Protease - Called SARS_C3_Assays.txt in this report\n",
    "\n",
    "2. Protein target GI75593047 - HIV pol polyprotein - Called HIV_Protease_Assays.txt in this report\n",
    "\n",
    "3. NS3 - Hep3 protease - Called NS3_Protease_Assays.txt in this report\n",
    "\n",
    "4. 3CL-Pro - Mers Protease - Called MERS_Protease_Assays.txt in this report\n",
    "\n",
    "The actual compound activity data will be downloaded from NCBI using their system called \"PUG-REST\" which are specifically designed URLs that let you download raw info of various NCBI records."
   ]
  },
  {
   "cell_type": "code",
   "execution_count": null,
   "metadata": {},
   "outputs": [],
   "source": [
    "#Imports\n",
    "import rdkit\n",
    "from rdkit.Chem import AllChem as Chem\n",
    "from rdkit.DataStructs import cDataStructs\n",
    "import numpy as np\n",
    "import pandas as pd\n",
    "from rdkit.Chem.Draw import IPythonConsole\n",
    "import matplotlib.pyplot as plt\n",
    "import os\n",
    "import time\n",
    "import pickle\n",
    "import csv\n",
    "from rdkit.Chem import QED\n",
    "import random\n",
    "import json\n",
    "from sklearn.preprocessing import StandardScaler"
   ]
  },
  {
   "cell_type": "code",
   "execution_count": null,
   "metadata": {},
   "outputs": [],
   "source": [
    "def get_assays(assay_path, assay_pickle_path):\n",
    "    with open(str(assay_path)) as f:\n",
    "        r = csv.reader(f)\n",
    "        AIDs = list(r)\n",
    "    assays = []\n",
    "    for i, AID in zip(range(len(AIDs)), AIDs):\n",
    "        #This needs to be changed to \n",
    "        #os.system('curl https://pubchem.ncbi.nlm.nih.gov/rest/pug/compound/cid/%s/sdf -o cmp.sdf' %CID)\n",
    "        #if you run it on a mac\n",
    "        os.system(f'wget https://pubchem.ncbi.nlm.nih.gov/rest/pug/assay/aid/{str(AID[0])}/csv -O Data/assay.csv')\n",
    "        if os.stat(f'Data/assay.csv').st_size != 0:\n",
    "            assays.append(pd.read_csv(f'Data/assay.csv'))\n",
    "\n",
    "    pickle.dump(assays, open(str(assay_pickle_path), \"wb\"))\n",
    "\n",
    "def get_mols_for_assays(assays_no_mol_path, assays_with_mol_path):\n",
    "    assays = pickle.load(open(str(assays_no_mol_path), \"rb\"))\n",
    "    for assay in assays:\n",
    "        if len(assay) != 1:\n",
    "            cids = list(assay[['PUBCHEM_CID']].values.astype(\"int32\").squeeze())\n",
    "            nan_counter = 0\n",
    "            for i in range(len(cids)):\n",
    "                if cids[i] < 0:\n",
    "                    nan_counter += 1\n",
    "                else:\n",
    "                    break\n",
    "            cids = cids[nan_counter:]\n",
    "            mols = []\n",
    "            for CID in cids:\n",
    "                #os.system('curl https://pubchem.ncbi.nlm.nih.gov/rest/pug/compound/cid/%s/sdf -o cmp.sdf' %CID)\n",
    "                os.system('wget https://pubchem.ncbi.nlm.nih.gov/rest/pug/compound/cid/%s/sdf -O cmp.sdf' %CID)\n",
    "                if os.stat(f'Data/cmp.sdf').st_size != 0:\n",
    "                    mols.append(Chem.SDMolSupplier(\"Data/cmp.sdf\")[0])\n",
    "                else:\n",
    "                    mols.append(None)\n",
    "\n",
    "            for i in range(nan_counter):\n",
    "                mols.insert(0,None)\n",
    "\n",
    "            assay.insert(3, \"Mol Object\", mols)\n",
    "\n",
    "    pickle.dump(assays, open(str(assays_with_mol_path), \"wb\"))"
   ]
  },
  {
   "cell_type": "code",
   "execution_count": null,
   "metadata": {},
   "outputs": [],
   "source": [
    "get_assays(\"Data/SARS_C3_Assays_AID_only.csv\", \"Data/sars/sars_assays_no_mol.pkl\")\n",
    "get_mols_for_assays(\"Data/sars/sars_assays_no_mol.pkl\", \"Data/sars/sars_assays.pkl\")"
   ]
  },
  {
   "cell_type": "code",
   "execution_count": null,
   "metadata": {},
   "outputs": [],
   "source": [
    "#This goes an HTTP get on EVERY compound and takes a WHILE. Might be better to just use the pickled datasets\n",
    "get_assays(\"Data/MERS_Protease_Assays_AID_only.csv\", \"Data/mers/mers_assays_no_mol.pkl\")\n",
    "get_mols_for_assays(\"Data/mers/mers_assays_no_mol.pkl\", \"Data/mers/mers_assays.pkl\")\n",
    "get_assays(\"Data/NS3_Protease_Assays_AID_only.csv\", \"Data/ns3/ns3_assays_no_mol.pkl\")\n",
    "get_mols_for_assays(\"Data/ns3/ns3_assays_no_mol.pkl\", \"Data/ns3/ns3_assays.pkl\")\n",
    "get_assays(\"Data/HIV_Protease_Assays_AID_only.csv\", \"Data/hiv/hiv_assays_no_mol.pkl\")\n",
    "get_mols_for_assays(\"Data/hiv/hiv_assays_no_mol.pkl\", \"Data/hiv/hiv_assays.pkl\")"
   ]
  },
  {
   "cell_type": "code",
   "execution_count": null,
   "metadata": {},
   "outputs": [],
   "source": [
    "#This datastructure is a dictionary of lists of dataframe. \n",
    "assays = {}\n",
    "assays[\"sars\"] = pickle.load(open(\"Data/sars/sars_assays.pkl\", \"rb\"))\n",
    "assays[\"mers\"] = pickle.load(open(\"Data/mers/mers_assays.pkl\", \"rb\"))\n",
    "assays[\"ns3\"] = pickle.load(open(\"Data/ns3/ns3_assays.pkl\", \"rb\"))\n",
    "assays[\"hiv\"] = pickle.load(open(\"Data/hiv/hiv_assays.pkl\", \"rb\"))"
   ]
  },
  {
   "cell_type": "markdown",
   "metadata": {},
   "source": [
    "It is worth mentioning here the different kinds of Bioactivities that an assay can report. Depending on what was relevant to the scientists involved in the study, various values can be used. Possibly most importantly for generating this dataset though is to not confuse the different kinds of activities. We will focus on IC50, which is the concentration of the compound at which 50% inhibition is observed. The value is normal reported as a \"Micromolar concentration\". The lower the value, the better the compound is at inhibiting the protein. It is important to not be tempted to use the \"Activity\" reported in some assays, which is normally a % and corresponds to how much that compound inhibits the protein at a given concentration. We're sticking with IC50 because this value is very information rich and actually many \"Activity\" experiments go into producing 1 IC50 value. Also they are more easily comparable, as we don't need to standardize concentration across the assays."
   ]
  },
  {
   "cell_type": "markdown",
   "metadata": {},
   "source": [
    "For this report we will focus on the \"PubChem Standard Value\" which is normally a standardized value using some metric (we will further narrow to only the metrics we want)"
   ]
  },
  {
   "cell_type": "code",
   "execution_count": null,
   "metadata": {},
   "outputs": [],
   "source": [
    "#This removes all the assays that do not have a column called \"PubChem Standard Value\"\n",
    "for a in [\"sars\", \"mers\", \"ns3\", \"hiv\"]:\n",
    "    print(\"Length of\",str(a),\"before removing\")\n",
    "    print(len(assays[a]))\n",
    "    assays[a] = np.array(assays[a])\n",
    "    bad_list = []\n",
    "    good_list = []\n",
    "    for i in range(len(assays[a])):\n",
    "        ic50_cols = [col for col in assays[a][i].columns if 'PubChem Standard Value' in col]\n",
    "        if not ic50_cols:\n",
    "            bad_list.append(i)\n",
    "        else:\n",
    "            good_list.append(int(i))\n",
    "\n",
    "    bad_list = np.array(bad_list)\n",
    "    good_list = np.array(good_list, dtype='int32')\n",
    "\n",
    "    assays[a] = assays[a][good_list]\n",
    "    print(\"Length of\",str(a),\"after removing\")\n",
    "    print(len(assays[a]))"
   ]
  },
  {
   "cell_type": "code",
   "execution_count": null,
   "metadata": {},
   "outputs": [],
   "source": [
    "#Remove unnesessary columns\n",
    "a1 = {'sars':'SARS coronavirus',\n",
    "      'mers':'Middle East respiratory syndrome-related coronavirus',\n",
    "      'ns3':'Hepacivirus C',\n",
    "      'hiv':'Human immunodeficiency virus 1'}\n",
    "for a in [\"sars\", \"mers\", \"ns3\", \"hiv\"]:\n",
    "    for i in range(len(assays[a])):\n",
    "        assays[a][i] = assays[a][i][[\"Mol Object\", \"PubChem Standard Value\", \"Standard Type\"]]\n",
    "        assays[a][i]['organism'] = a1[a]"
   ]
  },
  {
   "cell_type": "code",
   "execution_count": null,
   "metadata": {},
   "outputs": [],
   "source": [
    "assays['mers'][1]"
   ]
  },
  {
   "cell_type": "code",
   "execution_count": null,
   "metadata": {},
   "outputs": [],
   "source": [
    "#### Look at what different kind of metrics were used\n",
    "for a in [\"sars\", \"mers\", \"ns3\", \"hiv\"]:\n",
    "    for i in range(len(assays[a])):\n",
    "        print(assays[a][i][[\"Standard Type\"]].values[-1])"
   ]
  },
  {
   "cell_type": "markdown",
   "metadata": {},
   "source": [
    "You can see that even the \"standard\" values can have quite a variance in what they mean. As mentioned above, we will focus on only IC50 values. We know from enzyme kinetics that when a ligand binds to a protein in an uncompetetive scenario (i.e. an assay) the Ki value determined is equal to the IC50, so we can include it too. Also the Kd value is a more general way of referring to the Ki value, so it can be included. "
   ]
  },
  {
   "cell_type": "code",
   "execution_count": null,
   "metadata": {},
   "outputs": [],
   "source": [
    "#concatenate all of the dataframe in the dictionary into a single list.\n",
    "#We lose the notion that they were once for different targets\n",
    "all_dfs = []\n",
    "for a in [\"sars\", \"mers\", \"ns3\", \"hiv\"]:\n",
    "    for i in range(len(assays[a])):\n",
    "        if assays[a][i][[\"Standard Type\"]].values[-1][0] in {\"IC50\", \"Ki\", \"Kd\"}:\n",
    "            print(assays[a][i])\n",
    "            all_dfs.append(assays[a][i])"
   ]
  },
  {
   "cell_type": "code",
   "execution_count": null,
   "metadata": {},
   "outputs": [],
   "source": [
    "#Remove header info and concatenate them\n",
    "for i in range(len(all_dfs)):\n",
    "    all_dfs[i] = all_dfs[i].iloc[4:]\n",
    "final_df = pd.concat(all_dfs)"
   ]
  },
  {
   "cell_type": "code",
   "execution_count": null,
   "metadata": {},
   "outputs": [],
   "source": [
    "#Take all the compounds with activites converted to -log10(x nM)\n",
    "final_df['PubChem Standard Value'] = final_df['PubChem Standard Value'].astype(float)\n",
    "final_df = final_df[final_df['PubChem Standard Value'].notna()]\n",
    "final_df['pchembl_value'] = -np.log10(final_df['PubChem Standard Value'])+6\n",
    "final_df\n",
    "#df = final_df[final_df[\"PubChem Standard Value\"] < 0.1]"
   ]
  },
  {
   "cell_type": "code",
   "execution_count": null,
   "metadata": {},
   "outputs": [],
   "source": [
    "pickle.dump(final_df, open(\"Data/final_df.pkl\", \"wb\"))"
   ]
  },
  {
   "cell_type": "markdown",
   "metadata": {},
   "source": [
    "### Method Specific-preparation"
   ]
  },
  {
   "cell_type": "markdown",
   "metadata": {},
   "source": [
    "Now moving on to preparing the dataset for use in the predictive model "
   ]
  },
  {
   "cell_type": "code",
   "execution_count": null,
   "metadata": {},
   "outputs": [],
   "source": [
    "df = pickle.load(open(\"Data/final_df.pkl\", \"rb\"))\n",
    "df.index = range(df.shape[0])\n",
    "df"
   ]
  },
  {
   "cell_type": "code",
   "execution_count": null,
   "metadata": {},
   "outputs": [],
   "source": [
    "#Remove samples which are not molecules\n",
    "ids = []\n",
    "all_molecules = df[['Mol Object']].values[:,0]\n",
    "for i in range(df.shape[0]):\n",
    "    mol = all_molecules[i]\n",
    "    if not mol:\n",
    "        ids.append(i)\n",
    "rev_df = df.drop(df.index[ids])\n",
    "rev_df.index"
   ]
  },
  {
   "cell_type": "code",
   "execution_count": null,
   "metadata": {},
   "outputs": [],
   "source": [
    "rev_df.insert(5, 'canonical_smiles', [Chem.MolToSmiles(x, isomericSmiles=False) for x in rev_df[['Mol Object']].values[:,0]], True)\n",
    "rev_df.insert(6, 'standard_inchi_key', [Chem.inchi.MolToInchiKey(x) for x in rev_df[['Mol Object']].values[:,0]], True)\n",
    "rev_df"
   ]
  },
  {
   "cell_type": "code",
   "execution_count": null,
   "metadata": {},
   "outputs": [],
   "source": [
    "salt_indexes = []\n",
    "rev_df = rev_df.reset_index()\n",
    "for i in range(len(rev_df)):\n",
    "    if \".\" in rev_df[[\"canonical_smiles\"]].values[i][0]:\n",
    "        salt_indexes.append(i)\n",
    "    if len(rev_df[['canonical_smiles']].values[i][0])>128 or len(rev_df[['canonical_smiles']].values[i][0])<10:\n",
    "        salt_indexes.append(i)"
   ]
  },
  {
   "cell_type": "code",
   "execution_count": null,
   "metadata": {},
   "outputs": [],
   "source": [
    "rev_df = rev_df.drop(rev_df.index[salt_indexes])\n",
    "\n",
    "load_sequence_info = pd.read_csv(\"Data/Thomas_Filtered_Viral_Proteins.csv\",header='infer',sep=\",\")\n",
    "load_sequence_info"
   ]
  },
  {
   "cell_type": "code",
   "execution_count": null,
   "metadata": {},
   "outputs": [],
   "source": [
    "print(rev_df.columns)\n",
    "print(load_sequence_info.columns)"
   ]
  },
  {
   "cell_type": "code",
   "execution_count": null,
   "metadata": {},
   "outputs": [],
   "source": [
    "only_drug_info = rev_df[[\"standard_inchi_key\",\"canonical_smiles\"]].values.tolist()\n",
    "only_drug_info = set(tuple(x) for x in only_drug_info)\n",
    "only_drug_info = pd.DataFrame(only_drug_info, columns=['standard_inchi_key','canonical_smiles'])\n",
    "only_drug_info.to_csv(\"Data/Thomas_Filtered_Drugs.csv\",index=False)\n",
    "only_drug_info"
   ]
  },
  {
   "cell_type": "code",
   "execution_count": null,
   "metadata": {},
   "outputs": [],
   "source": [
    "rev_df.rename({\"Standard Type\":\"standard_type\"},axis=1,inplace=True)\n",
    "output_df = pd.merge(load_sequence_info,rev_df.iloc[:,[4,7,3,5]],on=\"organism\",how=\"right\")\n",
    "output_df.to_csv(\"Data/Thomas_Filtered_Drug_Viral_proteins_Network.csv\",index=False)\n",
    "output_df.drop_duplicates(subset=[\"uniprot_acc\"])"
   ]
  },
  {
   "cell_type": "code",
   "execution_count": null,
   "metadata": {},
   "outputs": [],
   "source": [
    "drug_list = only_drug_info[\"canonical_smiles\"].values.tolist()\n",
    "\n",
    "#Write the drug list in form readable for LSTM autoencoder\n",
    "drug_info = pd.DataFrame({'src':drug_list,'trg':drug_list})\n",
    "drug_info.to_csv(\"../LSTM_H/data/Thomas_drug_viral_protein_info.csv\",index=False)\n",
    "drug_list"
   ]
  },
  {
   "cell_type": "markdown",
   "metadata": {},
   "source": [
    "## 3. Validation - Molecular Docking Studies Using Autodock Vina"
   ]
  },
  {
   "cell_type": "markdown",
   "metadata": {},
   "source": [
    "### Re-docking the N3 Ligand as a baseline"
   ]
  },
  {
   "cell_type": "markdown",
   "metadata": {},
   "source": [
    "First step in the validation of proposed structures is to re-dock the N3 ligand into the protease structure, to get a baseline for the energy score associated with their binding. It is important to note that the N3 ligand shown in the X-Ray structure is a covalent inhibitor, which means it actually reacts with the active site of the protein. This results in a much stronger bond between ligand and target than non-covalent inhibition. \n",
    "\n",
    "This means that the re-docked structure may not be the same as the x-ray, since it lacks the covalent bond to the protein. The following in a procedure for the docking of the N3 ligand into the protein receptor. The same procedure is used for all fo the alter dockings of the candidate molecules. The procedure requires 3 programs:\n",
    "\n",
    "Pymol - https://pymol.org/2/ or https://github.com/schrodinger/pymol-open-source\n",
    "\n",
    "Autodock Vina - http://vina.scripps.edu/download.html\n",
    "\n",
    "Autodock Tools, found in MGL tools - http://mgltools.scripps.edu/downloads\n",
    "\n",
    "Two excellent video tutorials are found here: https://youtu.be/-GVZP0X0Tg8 and https://youtu.be/blxSn3Lhdec"
   ]
  },
  {
   "cell_type": "markdown",
   "metadata": {},
   "source": [
    "Docking procedure with Autodock Vina:\n",
    "\n",
    "1. Open the structure of the protein and ligand complex (.cif crystallographic information file)\n",
    "\n",
    "2. Select the ligand chain (in the bottom right, click \"residues\" so that it swtiches to \"chains\" to be able to select a chain)\n",
    "\n",
    "3. Delete the ligand, and save the file as a .pdb\n",
    "\n",
    "4. re-load the original file and this time select the protein and delete, saving only the ligand, also as a .pdb file\n",
    "\n",
    "5. Open autodock tools, load the protein target molecule with File>Read Molecule (.pdb file)\n",
    "\n",
    "6. Add hydrogens (Edit>Hydrogens>Add>Polar_only>Okay)\n",
    "\n",
    "7. View Mol surface (mention binding site)\n",
    "\n",
    "8. Select the 10 residues involved in the binding site: \n",
    "    THR26,LEU27,HIS41,MET49,ASN142,CYS145, HIS163\n",
    "\tGLU166, HIS172, GLN189\n",
    "    \n",
    "9. Go to Grid>Gridbox and show the gridbox, then manipulate it by changing the center and size so that it's completely enclosing the selected sidechains. Remember the coordinates. They should be: center: x=-11.963,y=15.683,z=69.193, spacing: 1A, points: x=20, y=24, z=22\n",
    "\n",
    "9. Flexible Residues>choose molecule\n",
    "\n",
    "10. Flexible Residues>Choose Torsions in selected residues> then accept the defaults. Should see various bonds on the 10 selected residues be different colours. THIS IS A VERY IMPORTANT STEP - NOT CONSIDERING FLEXIBILITY IN THE PROTEIN WILL AFFECT ACCURACY OF THE SCORING\n",
    "\n",
    "11. Flexible Residues>Output>SaveRigid. Save the rigid part of the protein as a .pdbqt file\n",
    "\n",
    "12. Flexible Residues>Output>Saveflexible. Save the flexible part of the protein as a .pdbqt file\n",
    "\n",
    "13. Now delete or hide the receptor and load the ligand with Ligand>input>open>ligand.pdb>ok\n",
    "\n",
    "14. add hydrogens to the ligand edit>hydrogens>add>polar_only\n",
    "\n",
    "15. export this as a pdb file (with hydrogens now)\n",
    "\n",
    "16. re-load the updated pdb file\n",
    "\n",
    "17. Define the rotatable bonds Ligand>TorsionTree>ChooseTorsions>okay\n",
    "\n",
    "18. Ligand>Output> Save as PDBQT\n",
    "\n",
    "19. Close autodock tools\n",
    "\n",
    "20. Create a configuation file for vina that matches the structure of conf.txt found in the Docking/ directory of this repo. Exhaustiveness is proportional to time and is how thoroughly the conformational space is searched.\n",
    "21. Run vina using ./vina --config conf.txt"
   ]
  },
  {
   "cell_type": "code",
   "execution_count": null,
   "metadata": {},
   "outputs": [],
   "source": [
    "#Visualizing the N3 ligand\n",
    "Chem.MolFromSmiles(\"CC(C)C[C@H](NC(=O)[C@@H](NC(=O)[C@H](C)NC(=O)c1cc(C)on1)C(C)C)C(=O)N[C@@H](C[C@@H]2CCNC2=O)\\C=C/C(=O)OCc3ccccc3\")"
   ]
  },
  {
   "cell_type": "markdown",
   "metadata": {},
   "source": [
    "Following this procedure for the N3 ligand, we end up with a final lowest energy minimum of around -7.9kcal/mol. The exact value doesn't tell us much, because the specific parameters of the docking scoring function can vary, but this serves as a baseline for comparison of later candidates. The following is the lowest energy stucture. You can see that it is in fact very different from the X-ray structure due to the lack of the covalent bond to the protein, with the N3 ligand sort of \"bending back\" in this conformation"
   ]
  },
  {
   "cell_type": "markdown",
   "metadata": {},
   "source": [
    "![N3_redocked_with_flex.png](attachment:N3_redocked_with_flex.png)"
   ]
  },
  {
   "cell_type": "markdown",
   "metadata": {},
   "source": [
    "Now for docking the candidates. The same procedure as above was followed for each of the candidates, with the additional step below of loading the structures and saving them as PDB files, to be opened in AutoDockTools"
   ]
  },
  {
   "cell_type": "markdown",
   "metadata": {},
   "source": [
    "### Preparing the high scoring and generated compounds for docking"
   ]
  },
  {
   "cell_type": "code",
   "execution_count": null,
   "metadata": {},
   "outputs": [],
   "source": [
    "best_predicted = pickle.load(open(\"Data/best_predicted_smiles.pkl\", \"rb\"))"
   ]
  },
  {
   "cell_type": "code",
   "execution_count": null,
   "metadata": {},
   "outputs": [],
   "source": [
    "best_predicted_mols = [Chem.MolFromSmiles(x) for x in best_predicted]"
   ]
  },
  {
   "cell_type": "code",
   "execution_count": null,
   "metadata": {},
   "outputs": [],
   "source": [
    "rdkit.Chem.Draw.MolsToGridImage(best_predicted_mols, molsPerRow=2, maxMols=100, subImgSize=(400, 400))"
   ]
  },
  {
   "cell_type": "code",
   "execution_count": null,
   "metadata": {},
   "outputs": [],
   "source": [
    "def write_to_pdb(m, name):\n",
    "    m = Chem.AddHs(m)\n",
    "    Chem.EmbedMolecule(m)\n",
    "    w = Chem.rdmolfiles.PDBWriter(open(\"Docking/\"+ str(name) + \".pdb\", \"w\"))\n",
    "    w.write(m)"
   ]
  },
  {
   "cell_type": "code",
   "execution_count": null,
   "metadata": {},
   "outputs": [],
   "source": [
    "for i in range(len(best_predicted_mols)):\n",
    "    write_to_pdb(best_predicted_mols[i], \"bp_\" + str(i+1))"
   ]
  },
  {
   "cell_type": "code",
   "execution_count": null,
   "metadata": {},
   "outputs": [],
   "source": [
    "generated = pickle.load(open(\"Data/first_generated_smiles_zinc\", \"rb\"))\n",
    "generated = [Chem.MolFromSmiles(x) for x in generated]\n",
    "rdkit.Chem.Draw.MolsToGridImage(generated, molsPerRow=2, maxMols=100, subImgSize=(400, 400))"
   ]
  },
  {
   "cell_type": "markdown",
   "metadata": {},
   "source": [
    "The generated compounds from this method are VERY strange for the most part, many with large strange rings. This is interesting because this paper is a realtively early example of generating molecular graphs and in the past little while have used a penalty on large rings such as the ones seen in these compounds. However, all is not lost, because several of these compounds still have interesting structure and are small and comparable to the N3 ligand."
   ]
  },
  {
   "cell_type": "markdown",
   "metadata": {},
   "source": [
    "In these 50 generated compounds, the ones that appeared at least the most visually similar to the n3 ligand (mainly just the small ones, which there aren't many) are: indexes: [5,6,9,32,33,34,36,38,44]"
   ]
  },
  {
   "cell_type": "code",
   "execution_count": null,
   "metadata": {},
   "outputs": [],
   "source": [
    "for i in [5,6,9,32,33,34,36,38,43,44]:\n",
    "    write_to_pdb(generated[i], str(i))"
   ]
  },
  {
   "cell_type": "markdown",
   "metadata": {},
   "source": [
    "After being prepared, the ligands were docked using autodock vina and the script multi_dock.sh to automate the process of docking many compounds. "
   ]
  },
  {
   "cell_type": "code",
   "execution_count": null,
   "metadata": {},
   "outputs": [],
   "source": [
    "#Preparation of the config files for the command line running of autodock vina\n",
    "# this is only for the \"best predicted\" compounds - I already docked the other ones before\n",
    "names = [\"bp_1\", \"bp_2\", \"bp_3\", \"bp_4\", \"bp_5\",\"bp_6\", \"bp_7\", \"bp_8\", \"bp_9\", \"bp_10\"]\n",
    "for name in names:\n",
    "    f = open(\"Docking/conf_\" + name + \".txt\", \"w+\")\n",
    "    f.write(\"receptor = /u/macdougt/Research/2019-nCov/Docking/6LU7_receptor_rigid.pdbqt\\n\")\n",
    "    f.write(\"flex = /u/macdougt/Research/2019-nCov/Docking/6LU7_receptor_flex.pdbqt\\n\")\n",
    "    f.write(\"ligand = /u/macdougt/Research/2019-nCov/Docking/\" + name + \".pdbqt\\n\")\n",
    "\n",
    "    f.write(\"out = /u/macdougt/Research/2019-nCov/Docking/out_\" + name + \".pdbqt\\n\")\n",
    "    f.write(\"log = /u/macdougt/Research/2019-nCov/Docking/log_\" + name + \".txt\\n\")\n",
    "\n",
    "    f.write(\"center_x = -11.963\\n\")\n",
    "    f.write(\"center_y = 15.683\\n\")\n",
    "    f.write(\"center_z = 69.193\\n\")\n",
    "\n",
    "    f.write(\"size_x = 20\\n\")\n",
    "    f.write(\"size_y = 24\\n\")\n",
    "    f.write(\"size_z = 22\\n\")\n",
    "\n",
    "    f.write(\"exhaustiveness = 80\\n\")\n",
    "\n",
    "    f.write(\"cpu = 7\\n\")\n",
    "    f.close()"
   ]
  },
  {
   "cell_type": "markdown",
   "metadata": {},
   "source": [
    "### Scores of various compounds"
   ]
  },
  {
   "cell_type": "markdown",
   "metadata": {},
   "source": [
    "For the predicted compounds"
   ]
  },
  {
   "cell_type": "code",
   "execution_count": null,
   "metadata": {},
   "outputs": [],
   "source": [
    "rdkit.Chem.Draw.MolsToGridImage(best_predicted_mols, molsPerRow=2, maxMols=100, subImgSize=(400, 400), legends=[\"-8.2\", \"-7.5\", \"-8.0\", \"-7.6\", \"-8.5\", \"-7.5\", \"-8.2\", \"-8.7\", \"-7.6\", \"-8.4\"])"
   ]
  },
  {
   "cell_type": "markdown",
   "metadata": {},
   "source": [
    "For the generated compounds"
   ]
  },
  {
   "cell_type": "code",
   "execution_count": null,
   "metadata": {},
   "outputs": [],
   "source": [
    "docked_generated = [generated[i] for i in [5,6,9,32,33,34,36,38,43,44]]"
   ]
  },
  {
   "cell_type": "code",
   "execution_count": null,
   "metadata": {},
   "outputs": [],
   "source": [
    "rdkit.Chem.Draw.MolsToGridImage(docked_generated, molsPerRow=2, maxMols=100, subImgSize=(400, 400), legends=[\"-7.3\", \"-8.2\", \"-8.8\", \"-9.8\", \"-8.4\", \"-6.9\", \"-7.6\", \"-7.9\", \"-6.7\", \"-9.4\"])"
   ]
  },
  {
   "cell_type": "markdown",
   "metadata": {},
   "source": [
    "Chosing the best scoring compound from these two scemes, we get the following compound from the prediction method, with a score of -8.7kcal/mol"
   ]
  },
  {
   "cell_type": "code",
   "execution_count": null,
   "metadata": {},
   "outputs": [],
   "source": [
    "best_predicted_mols[7]"
   ]
  },
  {
   "cell_type": "markdown",
   "metadata": {},
   "source": [
    "The best one from the generative mthod is shown below, with a score of -9.8 kcal/mol"
   ]
  },
  {
   "cell_type": "code",
   "execution_count": null,
   "metadata": {},
   "outputs": [],
   "source": [
    "generated[32]"
   ]
  },
  {
   "cell_type": "markdown",
   "metadata": {},
   "source": [
    "### Visualizing the high scoring compounds in the active site"
   ]
  },
  {
   "cell_type": "markdown",
   "metadata": {},
   "source": [
    "The following is the highest scoring predicted compound mentioned above."
   ]
  },
  {
   "cell_type": "markdown",
   "metadata": {},
   "source": [
    "![bp_8_lowest_energy.png](attachment:bp_8_lowest_energy.png)"
   ]
  },
  {
   "cell_type": "markdown",
   "metadata": {},
   "source": [
    "The following is the highest scoring generated compound mentioned above."
   ]
  },
  {
   "cell_type": "markdown",
   "metadata": {},
   "source": [
    "![candidate_8_lowest_energy.png](attachment:candidate_8_lowest_energy.png)"
   ]
  },
  {
   "cell_type": "markdown",
   "metadata": {},
   "source": [
    "## Discussion and Conclusion"
   ]
  },
  {
   "cell_type": "markdown",
   "metadata": {},
   "source": [
    "A predictive deep learning model was trained on a self-generated set of protease inhibitors. Predictions were made on these compounds and those with the 10 best predictive scores were docked to the ligand. The highest scoring compound is shown above and has a score of -8.7kcal/mol\n",
    "\n",
    "The best compounds from each method show signicant gains over the baseline score of -7.9kcal/mol for the n3 ligand."
   ]
  },
  {
   "cell_type": "markdown",
   "metadata": {},
   "source": [
    "## Thanks"
   ]
  }
 ],
 "metadata": {
  "jupytext": {
   "formats": "ipynb,py:light",
   "text_representation": {
    "extension": ".py",
    "format_name": "light",
    "format_version": "1.5",
    "jupytext_version": "1.3.4"
   }
  },
  "kernelspec": {
   "display_name": "Python 3",
   "language": "python",
   "name": "python3"
  },
  "language_info": {
   "codemirror_mode": {
    "name": "ipython",
    "version": 3
   },
   "file_extension": ".py",
   "mimetype": "text/x-python",
   "name": "python",
   "nbconvert_exporter": "python",
   "pygments_lexer": "ipython3",
   "version": "3.7.4"
  }
 },
 "nbformat": 4,
 "nbformat_minor": 2
}
