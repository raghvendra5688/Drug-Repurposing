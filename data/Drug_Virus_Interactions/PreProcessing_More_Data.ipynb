{
 "cells": [
  {
   "cell_type": "markdown",
   "metadata": {},
   "source": [
    "## 1. Dataset - Finding additional relevant compounds with activities"
   ]
  },
  {
   "cell_type": "markdown",
   "metadata": {},
   "source": [
    "Machine learning methods tend to work better the more data you have, and with this new virus popping up, data is a bit harder to come by. However, we do know a lot about how viruses work and relying on a main protease is common between many viruses. Available anti-viral drugs often target their proteases. \n",
    "\n",
    "SARS and MERS are both coronavirus variants that are very similar and since their respective outbreaks, many biological assays have been done to test compounds on their main proteases. Bioactivities measured in papers by medicinal chemists and biochemists are tracked by NCBI and are freely available. A database of protease inhibitors will be built using this data."
   ]
  },
  {
   "cell_type": "markdown",
   "metadata": {},
   "source": [
    "### General Dataset Preparation"
   ]
  },
  {
   "cell_type": "markdown",
   "metadata": {},
   "source": [
    "Note that each of these needs to be run for each of the search results and gives a list of assay ID's, or AIDs.\n",
    "\n",
    "The searches used to generate a good AID list are:\n",
    "\n",
    "1. Protein target GI73745819 - SARS Protease - Called SARS_C3_Assays.txt in this report\n",
    "\n",
    "2. Protein target GI75593047 - HIV pol polyprotein - Called HIV_Protease_Assays.txt in this report\n",
    "\n",
    "3. NS3 - Hep3 protease - Called NS3_Protease_Assays.txt in this report\n",
    "\n",
    "4. 3CL-Pro - Mers Protease - Called MERS_Protease_Assays.txt in this report\n",
    "\n",
    "The actual compound activity data will be downloaded from NCBI using their system called \"PUG-REST\" which are specifically designed URLs that let you download raw info of various NCBI records."
   ]
  },
  {
   "cell_type": "code",
   "execution_count": null,
   "metadata": {},
   "outputs": [],
   "source": [
    "#Imports\n",
    "import rdkit\n",
    "from rdkit.Chem import AllChem as Chem\n",
    "from rdkit.DataStructs import cDataStructs\n",
    "import numpy as np\n",
    "import pandas as pd\n",
    "from rdkit.Chem.Draw import IPythonConsole\n",
    "import matplotlib.pyplot as plt\n",
    "import os\n",
    "import time\n",
    "import pickle\n",
    "import csv\n",
    "from rdkit.Chem import QED\n",
    "import random\n",
    "import json\n",
    "from sklearn.preprocessing import StandardScaler"
   ]
  },
  {
   "cell_type": "code",
   "execution_count": null,
   "metadata": {},
   "outputs": [],
   "source": [
    "def get_assays(assay_path, assay_pickle_path):\n",
    "    with open(str(assay_path)) as f:\n",
    "        r = csv.reader(f)\n",
    "        AIDs = list(r)\n",
    "    assays = []\n",
    "    for i, AID in zip(range(len(AIDs)), AIDs):\n",
    "        #This needs to be changed to \n",
    "        #os.system('curl https://pubchem.ncbi.nlm.nih.gov/rest/pug/compound/cid/%s/sdf -o cmp.sdf' %CID)\n",
    "        #if you run it on a mac\n",
    "        os.system(f'wget https://pubchem.ncbi.nlm.nih.gov/rest/pug/assay/aid/{str(AID[0])}/csv -O additional_data/assay.csv')\n",
    "        if os.stat(f'additional_data/assay.csv').st_size != 0:\n",
    "            assays.append(pd.read_csv(f'additional_data/assay.csv'))\n",
    "\n",
    "    pickle.dump(assays, open(str(assay_pickle_path), \"wb\"))\n",
    "\n",
    "def get_mols_for_assays(assays_no_mol_path, assays_with_mol_path):\n",
    "    assays = pickle.load(open(str(assays_no_mol_path), \"rb\"))\n",
    "    for assay in assays:\n",
    "        if len(assay) != 1:\n",
    "            cids = list(assay[['PUBCHEM_CID']].values.astype(\"int32\").squeeze())\n",
    "            nan_counter = 0\n",
    "            for i in range(len(cids)):\n",
    "                if cids[i] < 0:\n",
    "                    nan_counter += 1\n",
    "                else:\n",
    "                    break\n",
    "            cids = cids[nan_counter:]\n",
    "            mols = []\n",
    "            for CID in cids:\n",
    "                #os.system('curl https://pubchem.ncbi.nlm.nih.gov/rest/pug/compound/cid/%s/sdf -o cmp.sdf' %CID)\n",
    "                os.system('wget https://pubchem.ncbi.nlm.nih.gov/rest/pug/compound/cid/%s/sdf -O additional_data/cmp.sdf' %CID)\n",
    "                if os.stat(f'additional_data/cmp.sdf').st_size != 0:\n",
    "                    mols.append(Chem.SDMolSupplier(\"additional_data/cmp.sdf\")[0])\n",
    "                else:\n",
    "                    mols.append(None)\n",
    "\n",
    "            for i in range(nan_counter):\n",
    "                mols.insert(0,None)\n",
    "\n",
    "            assay.insert(3, \"Mol Object\", mols)\n",
    "\n",
    "    pickle.dump(assays, open(str(assays_with_mol_path), \"wb\"))"
   ]
  },
  {
   "cell_type": "code",
   "execution_count": null,
   "metadata": {},
   "outputs": [],
   "source": [
    "#Get the information through the PUG-REST API which is relatively slow for each of the 4 viruses similar to SARS-COV-2\n",
    "\n",
    "#get_assays(\"additional_data/SARS_C3_Assays_AID_only.csv\", \"additional_data/sars_assays_no_mol.pkl\")\n",
    "#get_mols_for_assays(\"additional_data/sars_assays_no_mol.pkl\", \"additional_data/sars_assays.pkl\")"
   ]
  },
  {
   "cell_type": "code",
   "execution_count": null,
   "metadata": {},
   "outputs": [],
   "source": [
    "#This goes an HTTP get on EVERY compound and takes a WHILE. Might be better to just use the pickled datasets\n",
    "#get_assays(\"additional_data/MERS_Protease_Assays_AID_only.csv\", \"additional_data/mers_assays_no_mol.pkl\")\n",
    "#get_mols_for_assays(\"additional_data/mers_assays_no_mol.pkl\", \"additional_data/mers_assays.pkl\")\n",
    "#get_assays(\"additional_data/NS3_Protease_Assays_AID_only.csv\", \"additional_data/ns3_assays_no_mol.pkl\")\n",
    "#get_mols_for_assays(\"additional_data/ns3_assays_no_mol.pkl\", \"additional_data/ns3_assays.pkl\")\n",
    "#get_assays(\"additional_data/HIV_Protease_Assays_AID_only.csv\", \"additional_data/iv_assays_no_mol.pkl\")\n",
    "#get_mols_for_assays(\"additional_data/hiv_assays_no_mol.pkl\", \"additional_data/hiv_assays.pkl\")"
   ]
  },
  {
   "cell_type": "code",
   "execution_count": null,
   "metadata": {},
   "outputs": [],
   "source": [
    "#This datastructure is a dictionary of lists of dataframe already prepared\n",
    "assays = {}\n",
    "assays[\"sars\"] = pickle.load(open(\"additional_data/sars_assays.pkl\", \"rb\"))\n",
    "assays[\"mers\"] = pickle.load(open(\"additional_data/mers_assays.pkl\", \"rb\"))\n",
    "assays[\"ns3\"] = pickle.load(open(\"additional_data/ns3_assays.pkl\", \"rb\"))\n",
    "assays[\"hiv\"] = pickle.load(open(\"additional_data/hiv_assays.pkl\", \"rb\"))\n",
    "#os.system('rm additional_data/*.pkl additional_data/*.sdf additional_data/assay.csv')"
   ]
  },
  {
   "cell_type": "markdown",
   "metadata": {},
   "source": [
    "It is worth mentioning here the different kinds of Bioactivities that an assay can report. Depending on what was relevant to the scientists involved in the study, various values can be used. Possibly most importantly for generating this dataset though is to not confuse the different kinds of activities. We will focus on IC50, which is the concentration of the compound at which 50% inhibition is observed. The value is normal reported as a \"Micromolar concentration\". The lower the value, the better the compound is at inhibiting the protein. It is important to not be tempted to use the \"Activity\" reported in some assays, which is normally a % and corresponds to how much that compound inhibits the protein at a given concentration. We're sticking with IC50 because this value is very information rich and actually many \"Activity\" experiments go into producing 1 IC50 value. Also they are more easily comparable, as we don't need to standardize concentration across the assays."
   ]
  },
  {
   "cell_type": "markdown",
   "metadata": {},
   "source": [
    "For this report we will focus on the \"PubChem Standard Value\" which is normally a standardized value using some metric (we will further narrow to only the metrics we want)"
   ]
  },
  {
   "cell_type": "code",
   "execution_count": null,
   "metadata": {},
   "outputs": [],
   "source": [
    "#This removes all the assays that do not have a column called \"PubChem Standard Value\"\n",
    "for a in [\"sars\", \"mers\", \"ns3\", \"hiv\"]:\n",
    "    print(\"Length of\",str(a),\"before removing\")\n",
    "    print(len(assays[a]))\n",
    "    assays[a] = np.array(assays[a])\n",
    "    bad_list = []\n",
    "    good_list = []\n",
    "    for i in range(len(assays[a])):\n",
    "        ic50_cols = [col for col in assays[a][i].columns if 'PubChem Standard Value' in col]\n",
    "        if not ic50_cols:\n",
    "            bad_list.append(i)\n",
    "        else:\n",
    "            good_list.append(int(i))\n",
    "\n",
    "    bad_list = np.array(bad_list)\n",
    "    good_list = np.array(good_list, dtype='int32')\n",
    "\n",
    "    assays[a] = assays[a][good_list]\n",
    "    print(\"Length of\",str(a),\"after removing\")\n",
    "    print(len(assays[a]))"
   ]
  },
  {
   "cell_type": "code",
   "execution_count": null,
   "metadata": {},
   "outputs": [],
   "source": [
    "#Remove unnesessary columns\n",
    "a1 = {'sars':'SARS coronavirus',\n",
    "      'mers':'Middle East respiratory syndrome-related coronavirus',\n",
    "      'ns3':'Hepacivirus C',\n",
    "      'hiv':'Human immunodeficiency virus 1'}\n",
    "for a in [\"sars\", \"mers\", \"ns3\", \"hiv\"]:\n",
    "    for i in range(len(assays[a])):\n",
    "        assays[a][i] = assays[a][i][[\"Mol Object\", \"PubChem Standard Value\", \"Standard Type\"]]\n",
    "        assays[a][i]['organism'] = a1[a]"
   ]
  },
  {
   "cell_type": "code",
   "execution_count": null,
   "metadata": {},
   "outputs": [],
   "source": [
    "#### Look at what different kind of metrics were used\n",
    "for a in [\"sars\", \"mers\", \"ns3\", \"hiv\"]:\n",
    "    for i in range(len(assays[a])):\n",
    "        print(assays[a][i][[\"Standard Type\"]].values[-1])"
   ]
  },
  {
   "cell_type": "markdown",
   "metadata": {},
   "source": [
    "You can see that even the \"standard\" values can have quite a variance in what they mean. As mentioned above, we will focus on only IC50 values. We know from enzyme kinetics that when a ligand binds to a protein in an uncompetetive scenario (i.e. an assay) the Ki value determined is equal to the IC50, so we can include it too. Also the Kd value is a more general way of referring to the Ki value, so it can be included. "
   ]
  },
  {
   "cell_type": "code",
   "execution_count": null,
   "metadata": {},
   "outputs": [],
   "source": [
    "#concatenate all of the dataframe in the dictionary into a single list.\n",
    "#We lose the notion that they were once for different targets\n",
    "all_dfs = []\n",
    "for a in [\"sars\", \"mers\", \"ns3\", \"hiv\"]:\n",
    "    for i in range(len(assays[a])):\n",
    "        if assays[a][i][[\"Standard Type\"]].values[-1][0] in {\"IC50\", \"Ki\", \"Kd\"}:\n",
    "            print(assays[a][i])\n",
    "            all_dfs.append(assays[a][i])"
   ]
  },
  {
   "cell_type": "code",
   "execution_count": null,
   "metadata": {},
   "outputs": [],
   "source": [
    "#Remove header info and concatenate them\n",
    "for i in range(len(all_dfs)):\n",
    "    all_dfs[i] = all_dfs[i].iloc[4:]\n",
    "final_df = pd.concat(all_dfs)"
   ]
  },
  {
   "cell_type": "code",
   "execution_count": null,
   "metadata": {},
   "outputs": [],
   "source": [
    "#Take all the compounds with activites converted to -log10(x nM)\n",
    "final_df['PubChem Standard Value'] = final_df['PubChem Standard Value'].astype(float)\n",
    "final_df = final_df[final_df['PubChem Standard Value'].notna()]\n",
    "final_df['pchembl_value'] = -np.log10(final_df['PubChem Standard Value'])+6\n",
    "final_df"
   ]
  },
  {
   "cell_type": "code",
   "execution_count": null,
   "metadata": {},
   "outputs": [],
   "source": [
    "pickle.dump(final_df, open(\"additional_data/final_df.pkl\", \"wb\"))"
   ]
  },
  {
   "cell_type": "markdown",
   "metadata": {},
   "source": [
    "### Method Specific-preparation"
   ]
  },
  {
   "cell_type": "markdown",
   "metadata": {},
   "source": [
    "Now moving on to preparing the dataset for use in the predictive model "
   ]
  },
  {
   "cell_type": "code",
   "execution_count": null,
   "metadata": {},
   "outputs": [],
   "source": [
    "df = pickle.load(open(\"additional_data/final_df.pkl\", \"rb\"))\n",
    "df.index = range(df.shape[0])"
   ]
  },
  {
   "cell_type": "code",
   "execution_count": null,
   "metadata": {},
   "outputs": [],
   "source": [
    "#Remove samples which are not molecules\n",
    "ids = []\n",
    "all_molecules = df[['Mol Object']].values[:,0]\n",
    "for i in range(df.shape[0]):\n",
    "    mol = all_molecules[i]\n",
    "    if not mol:\n",
    "        ids.append(i)\n",
    "rev_df = df.drop(df.index[ids])\n",
    "rev_df.index"
   ]
  },
  {
   "cell_type": "code",
   "execution_count": null,
   "metadata": {},
   "outputs": [],
   "source": [
    "rev_df.insert(5, 'canonical_smiles', [Chem.MolToSmiles(x, isomericSmiles=False) for x in rev_df[['Mol Object']].values[:,0]], True)\n",
    "rev_df.insert(6, 'standard_inchi_key', [Chem.inchi.MolToInchiKey(x) for x in rev_df[['Mol Object']].values[:,0]], True)\n",
    "rev_df"
   ]
  },
  {
   "cell_type": "code",
   "execution_count": null,
   "metadata": {},
   "outputs": [],
   "source": [
    "#Remove samples where drugs have SMILES with length>128 or length<10\n",
    "salt_indexes = []\n",
    "rev_df = rev_df.reset_index()\n",
    "for i in range(len(rev_df)):\n",
    "    if \".\" in rev_df[[\"canonical_smiles\"]].values[i][0]:\n",
    "        salt_indexes.append(i)\n",
    "    if len(rev_df[['canonical_smiles']].values[i][0])>128 or len(rev_df[['canonical_smiles']].values[i][0])<10:\n",
    "        salt_indexes.append(i)"
   ]
  },
  {
   "cell_type": "code",
   "execution_count": null,
   "metadata": {},
   "outputs": [],
   "source": [
    "rev_df = rev_df.drop(rev_df.index[salt_indexes])\n",
    "load_sequence_info = pd.read_csv(\"ncbi_Filtered_Viral_Proteins.csv\",header='infer',sep=\",\")\n",
    "load_sequence_info"
   ]
  },
  {
   "cell_type": "code",
   "execution_count": null,
   "metadata": {},
   "outputs": [],
   "source": [
    "only_drug_info = rev_df[[\"standard_inchi_key\",\"canonical_smiles\"]].values.tolist()\n",
    "only_drug_info = set(tuple(x) for x in only_drug_info)\n",
    "only_drug_info = pd.DataFrame(only_drug_info, columns=['standard_inchi_key','canonical_smiles'])\n",
    "only_drug_info.to_csv(\"ncbi_Filtered_Drugs.csv\",index=False)\n",
    "only_drug_info"
   ]
  },
  {
   "cell_type": "code",
   "execution_count": null,
   "metadata": {},
   "outputs": [],
   "source": [
    "rev_df.rename({\"Standard Type\":\"standard_type\"},axis=1,inplace=True)\n",
    "output_df = pd.merge(load_sequence_info,rev_df.iloc[:,[4,7,3,5]],on=\"organism\",how=\"right\")\n",
    "output_df.to_csv(\"ncbi_Filtered_Drug_Viral_proteins_Network.csv\",index=False)\n",
    "output_df.drop_duplicates(subset=[\"uniprot_accession\"])"
   ]
  },
  {
   "cell_type": "code",
   "execution_count": null,
   "metadata": {},
   "outputs": [],
   "source": [
    "drug_list = only_drug_info[\"canonical_smiles\"].values.tolist()\n",
    "\n",
    "#Write the drug list in form readable for LSTM autoencoder\n",
    "drug_info = pd.DataFrame({'src':drug_list,'trg':drug_list})\n",
    "drug_info.to_csv(\"ncbi_drug_src_target_info.csv\",index=False)\n",
    "drug_list"
   ]
  },
  {
   "cell_type": "code",
   "execution_count": null,
   "metadata": {},
   "outputs": [],
   "source": []
  }
 ],
 "metadata": {
  "jupytext": {
   "formats": "ipynb,py:light"
  },
  "kernelspec": {
   "display_name": "Python 3",
   "language": "python",
   "name": "python3"
  },
  "language_info": {
   "codemirror_mode": {
    "name": "ipython",
    "version": 3
   },
   "file_extension": ".py",
   "mimetype": "text/x-python",
   "name": "python",
   "nbconvert_exporter": "python",
   "pygments_lexer": "ipython3",
   "version": "3.7.4"
  }
 },
 "nbformat": 4,
 "nbformat_minor": 2
}
